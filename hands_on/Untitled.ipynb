{
 "cells": [
  {
   "cell_type": "code",
   "execution_count": 1,
   "id": "a80a3c78",
   "metadata": {},
   "outputs": [],
   "source": [
    "x=[{'name': 'Response Set 1', 'robustnessWeightBinary': [{'multiArm': {'scenarioDetails': [{'id': 1, 'wt': 50}, {'id': 2, 'wt': 50}], 'dropoutScenarioDetails': [{'id': 1, 'wt': 33.33}, {'id': 2, 'wt': 33.33}, {'id': 3, 'wt': 33.33}]}, 'scenarioWeight': 50}]}, {'name': 'Response Set 2', 'robustnessWeightBinary': [{'multiArm': {'scenarioDetails': [{'id': 1, 'wt': 33.33}, {'id': 2, 'wt': 33.33}, {'id': 3, 'wt': 33.33}], 'dropoutScenarioDetails': [{'id': None, 'wt': None}]}, 'scenarioWeight': 50}]}]"
   ]
  },
  {
   "cell_type": "code",
   "execution_count": 4,
   "id": "436e71e4",
   "metadata": {},
   "outputs": [
    {
     "name": "stdout",
     "output_type": "stream",
     "text": [
      "[{'name': 'Response Set 1',\n",
      "  'robustnessWeightBinary': [{'multiArm': {'dropoutScenarioDetails': [{'id': 1,\n",
      "                                                                       'wt': 33.33},\n",
      "                                                                      {'id': 2,\n",
      "                                                                       'wt': 33.33},\n",
      "                                                                      {'id': 3,\n",
      "                                                                       'wt': 33.33}],\n",
      "                                           'scenarioDetails': [{'id': 1,\n",
      "                                                                'wt': 50},\n",
      "                                                               {'id': 2,\n",
      "                                                                'wt': 50}]},\n",
      "                              'scenarioWeight': 50}]},\n",
      " {'name': 'Response Set 2',\n",
      "  'robustnessWeightBinary': [{'multiArm': {'dropoutScenarioDetails': [{'id': None,\n",
      "                                                                       'wt': None}],\n",
      "                                           'scenarioDetails': [{'id': 1,\n",
      "                                                                'wt': 33.33},\n",
      "                                                               {'id': 2,\n",
      "                                                                'wt': 33.33},\n",
      "                                                               {'id': 3,\n",
      "                                                                'wt': 33.33}]},\n",
      "                              'scenarioWeight': 50}]}]\n"
     ]
    }
   ],
   "source": [
    "import pprint\n",
    "pprint.pprint(x)"
   ]
  },
  {
   "cell_type": "code",
   "execution_count": null,
   "id": "d248a7bf",
   "metadata": {},
   "outputs": [],
   "source": []
  }
 ],
 "metadata": {
  "kernelspec": {
   "display_name": "Python 3 (ipykernel)",
   "language": "python",
   "name": "python3"
  },
  "language_info": {
   "codemirror_mode": {
    "name": "ipython",
    "version": 3
   },
   "file_extension": ".py",
   "mimetype": "text/x-python",
   "name": "python",
   "nbconvert_exporter": "python",
   "pygments_lexer": "ipython3",
   "version": "3.8.10"
  }
 },
 "nbformat": 4,
 "nbformat_minor": 5
}
